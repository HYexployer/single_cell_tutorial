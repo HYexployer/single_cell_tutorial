{
 "cells": [
  {
   "attachments": {},
   "cell_type": "markdown",
   "id": "eceea5f9-1817-43b8-9e2f-3eb2bf8a1688",
   "metadata": {},
   "source": [
    "# 2-3. 特征基因选择"
   ]
  },
  {
   "attachments": {},
   "cell_type": "markdown",
   "id": "6039b327",
   "metadata": {},
   "source": [
    "## 1. 背景"
   ]
  },
  {
   "attachments": {},
   "cell_type": "markdown",
   "id": "bb34b118",
   "metadata": {},
   "source": [
    "我们现在有了一个经过标准化的单细胞测序数据，其保留了细胞差异，同时消除了技术带来的采样误差。通常来说，我们经过上游的mapping（比对），我们会得到30,000到50,000个不等的基因。但是，我们只在第一步的质控中，删除了一小部分基因（少于20个细胞表达的基因）。但实际上，一个细胞表达的基因大约是3,000个左右。意味着我们的测序数据中的一大部分基因可能不具有与单细胞数据相关的生物学意义，这些基因大多数包含0计数，或者是在许多细胞中普遍出现的基因。\n",
    "\n",
    "故在预处理环节，我们需要计算高可变基因（特征基因），排除那些不具有分析意义的基因，避免影响我们下游的建模以及生物学检测。\n",
    "\n",
    "<img src=\"https://www.sc-best-practices.org/_images/feature_selection.jpeg\" alt=\"Feature selection\" class=\"bg-primary mb-1\" width=\"800px\">\n",
    "\n",
    "在本章中，我们将介绍三种不同的特征基因选择：基于基因离散度，基于基因归一化方差以及基于基因的皮尔森残差。在传统的分析流程中，我们会采用基于基因离散度的方式去计算高可变基因，一般来说，我们首先确定了单细胞数据集中变异最大的一组基因。我们计算了所有单细胞中每个基因的平均值和离散度（方差/平均值），并根据基因的平均表达将其分为 20 个箱。然后，在每个箱内，我们对箱内所有基因的离散度进行z归一化，以识别表达值高度可变的基因。\n"
   ]
  },
  {
   "attachments": {},
   "cell_type": "markdown",
   "id": "66b66cc6",
   "metadata": {},
   "source": [
    "## 2. 基于基因离散度\n",
    "\n",
    "我们首先设置我们的环境。"
   ]
  },
  {
   "cell_type": "code",
   "execution_count": 15,
   "id": "9afa9c69-1dc8-4144-b2aa-48c093933185",
   "metadata": {
    "execution": {
     "iopub.execute_input": "2023-05-02T11:41:58.775407Z",
     "iopub.status.busy": "2023-05-02T11:41:58.774853Z",
     "iopub.status.idle": "2023-05-02T11:42:02.601214Z",
     "shell.execute_reply": "2023-05-02T11:42:02.599930Z",
     "shell.execute_reply.started": "2023-05-02T11:41:58.775365Z"
    },
    "tags": []
   },
   "outputs": [],
   "source": [
    "import omicverse as ov\n",
    "import scanpy as sc\n",
    "\n",
    "ov.utils.ov_plot_set()"
   ]
  },
  {
   "attachments": {},
   "cell_type": "markdown",
   "id": "83e4e2aa-621d-4fd6-8a0f-5e907e506d09",
   "metadata": {},
   "source": [
    "接下来，我们加载此前分析所用到的数据集，并进行移位对数标准化处理。"
   ]
  },
  {
   "cell_type": "code",
   "execution_count": 16,
   "id": "da52c05f-77a4-48f8-a45a-e8de6ab0756a",
   "metadata": {
    "execution": {
     "iopub.execute_input": "2023-05-02T11:42:06.467745Z",
     "iopub.status.busy": "2023-05-02T11:42:06.467207Z",
     "iopub.status.idle": "2023-05-02T11:42:10.226605Z",
     "shell.execute_reply": "2023-05-02T11:42:10.225822Z",
     "shell.execute_reply.started": "2023-05-02T11:42:06.467730Z"
    }
   },
   "outputs": [
    {
     "name": "stdout",
     "output_type": "stream",
     "text": [
      "......The X of adata have been stored in counts\n",
      "normalizing counts per cell\n",
      "    finished (0:00:00)\n"
     ]
    },
    {
     "data": {
      "text/plain": [
       "AnnData object with n_obs × n_vars = 14814 × 20171\n",
       "    obs: 'n_genes_by_counts', 'log1p_n_genes_by_counts', 'total_counts', 'log1p_total_counts', 'pct_counts_in_top_20_genes', 'total_counts_mt', 'log1p_total_counts_mt', 'pct_counts_mt', 'total_counts_ribo', 'log1p_total_counts_ribo', 'pct_counts_ribo', 'total_counts_hb', 'log1p_total_counts_hb', 'pct_counts_hb', 'outlier', 'mt_outlier', 'scDblFinder_score', 'scDblFinder_class'\n",
       "    var: 'gene_ids', 'feature_types', 'genome', 'mt', 'ribo', 'hb', 'n_cells_by_counts', 'mean_counts', 'log1p_mean_counts', 'pct_dropout_by_counts', 'total_counts', 'log1p_total_counts', 'n_cells'\n",
       "    uns: 'layers_counts', 'log1p'\n",
       "    layers: 'counts', 'soupX_counts'"
      ]
     },
     "execution_count": 16,
     "metadata": {},
     "output_type": "execute_result"
    }
   ],
   "source": [
    "adata = sc.read(\n",
    "    filename=\"s4d8_quality_control.h5ad\",\n",
    "    #backup_url=\"https://figshare.com/ndownloader/files/40014331\",\n",
    ")\n",
    "#存储原始数据以便后续还原\n",
    "ov.utils.store_layers(adata,layers='counts')\n",
    "adata.layers['counts']=adata.X.copy()\n",
    "\n",
    "sc.pp.normalize_total(adata)\n",
    "sc.pp.log1p(adata)\n",
    "adata"
   ]
  },
  {
   "attachments": {},
   "cell_type": "markdown",
   "id": "0bc17742",
   "metadata": {},
   "source": [
    "接下来，我们调用`scanpy`包里的`pp.highly_variable_genes`函数来计算高可变基因，由于我们使用的是基于基因离散度的方法，故我们需要设置`flavor='seurat'`，该方法也是默认方法。基于基因离散度的方法寻找高变基因有两个途径：\n",
    "\n",
    "- 指定目的高变基因数\n",
    "- 指定离散度，平均值过滤高变基因\n",
    "\n",
    "在这里，我们分别尝试两种不同的方法，首先是基于指定高变基因数的方法：\n",
    "\n",
    "### 2.1 指定高可变基因数\n",
    "\n",
    "由于是教程演示，所以我们不希望改变原来的anndata对象的`.var`，故我们设置`inplace=False`，旨在观察和对比高可变基因"
   ]
  },
  {
   "cell_type": "code",
   "execution_count": 3,
   "id": "cc68af2f",
   "metadata": {},
   "outputs": [
    {
     "name": "stdout",
     "output_type": "stream",
     "text": [
      "If you pass `n_top_genes`, all cutoffs are ignored.\n",
      "extracting highly variable genes\n",
      "    finished (0:00:00)\n"
     ]
    },
    {
     "data": {
      "text/html": [
       "<div>\n",
       "<style scoped>\n",
       "    .dataframe tbody tr th:only-of-type {\n",
       "        vertical-align: middle;\n",
       "    }\n",
       "\n",
       "    .dataframe tbody tr th {\n",
       "        vertical-align: top;\n",
       "    }\n",
       "\n",
       "    .dataframe thead th {\n",
       "        text-align: right;\n",
       "    }\n",
       "</style>\n",
       "<table border=\"1\" class=\"dataframe\">\n",
       "  <thead>\n",
       "    <tr style=\"text-align: right;\">\n",
       "      <th></th>\n",
       "      <th>means</th>\n",
       "      <th>dispersions</th>\n",
       "      <th>mean_bin</th>\n",
       "      <th>dispersions_norm</th>\n",
       "      <th>highly_variable</th>\n",
       "    </tr>\n",
       "  </thead>\n",
       "  <tbody>\n",
       "    <tr>\n",
       "      <th>0</th>\n",
       "      <td>0.000955</td>\n",
       "      <td>0.001085</td>\n",
       "      <td>(-0.00329, 0.186]</td>\n",
       "      <td>-1.267316</td>\n",
       "      <td>False</td>\n",
       "    </tr>\n",
       "    <tr>\n",
       "      <th>1</th>\n",
       "      <td>0.006057</td>\n",
       "      <td>0.715322</td>\n",
       "      <td>(-0.00329, 0.186]</td>\n",
       "      <td>1.484390</td>\n",
       "      <td>True</td>\n",
       "    </tr>\n",
       "    <tr>\n",
       "      <th>2</th>\n",
       "      <td>0.036619</td>\n",
       "      <td>0.275313</td>\n",
       "      <td>(-0.00329, 0.186]</td>\n",
       "      <td>-0.210809</td>\n",
       "      <td>False</td>\n",
       "    </tr>\n",
       "    <tr>\n",
       "      <th>3</th>\n",
       "      <td>0.022142</td>\n",
       "      <td>0.268974</td>\n",
       "      <td>(-0.00329, 0.186]</td>\n",
       "      <td>-0.235233</td>\n",
       "      <td>False</td>\n",
       "    </tr>\n",
       "    <tr>\n",
       "      <th>4</th>\n",
       "      <td>0.002392</td>\n",
       "      <td>-0.093762</td>\n",
       "      <td>(-0.00329, 0.186]</td>\n",
       "      <td>-1.632726</td>\n",
       "      <td>False</td>\n",
       "    </tr>\n",
       "    <tr>\n",
       "      <th>...</th>\n",
       "      <td>...</td>\n",
       "      <td>...</td>\n",
       "      <td>...</td>\n",
       "      <td>...</td>\n",
       "      <td>...</td>\n",
       "    </tr>\n",
       "    <tr>\n",
       "      <th>20166</th>\n",
       "      <td>0.003747</td>\n",
       "      <td>0.063567</td>\n",
       "      <td>(-0.00329, 0.186]</td>\n",
       "      <td>-1.026594</td>\n",
       "      <td>False</td>\n",
       "    </tr>\n",
       "    <tr>\n",
       "      <th>20167</th>\n",
       "      <td>0.003144</td>\n",
       "      <td>0.307859</td>\n",
       "      <td>(-0.00329, 0.186]</td>\n",
       "      <td>-0.085421</td>\n",
       "      <td>False</td>\n",
       "    </tr>\n",
       "    <tr>\n",
       "      <th>20168</th>\n",
       "      <td>0.062956</td>\n",
       "      <td>0.448886</td>\n",
       "      <td>(-0.00329, 0.186]</td>\n",
       "      <td>0.457906</td>\n",
       "      <td>False</td>\n",
       "    </tr>\n",
       "    <tr>\n",
       "      <th>20169</th>\n",
       "      <td>0.012018</td>\n",
       "      <td>0.158723</td>\n",
       "      <td>(-0.00329, 0.186]</td>\n",
       "      <td>-0.659990</td>\n",
       "      <td>False</td>\n",
       "    </tr>\n",
       "    <tr>\n",
       "      <th>20170</th>\n",
       "      <td>0.002032</td>\n",
       "      <td>1.909771</td>\n",
       "      <td>(-0.00329, 0.186]</td>\n",
       "      <td>6.086184</td>\n",
       "      <td>True</td>\n",
       "    </tr>\n",
       "  </tbody>\n",
       "</table>\n",
       "<p>20171 rows × 5 columns</p>\n",
       "</div>"
      ],
      "text/plain": [
       "          means  dispersions           mean_bin  dispersions_norm  \\\n",
       "0      0.000955     0.001085  (-0.00329, 0.186]         -1.267316   \n",
       "1      0.006057     0.715322  (-0.00329, 0.186]          1.484390   \n",
       "2      0.036619     0.275313  (-0.00329, 0.186]         -0.210809   \n",
       "3      0.022142     0.268974  (-0.00329, 0.186]         -0.235233   \n",
       "4      0.002392    -0.093762  (-0.00329, 0.186]         -1.632726   \n",
       "...         ...          ...                ...               ...   \n",
       "20166  0.003747     0.063567  (-0.00329, 0.186]         -1.026594   \n",
       "20167  0.003144     0.307859  (-0.00329, 0.186]         -0.085421   \n",
       "20168  0.062956     0.448886  (-0.00329, 0.186]          0.457906   \n",
       "20169  0.012018     0.158723  (-0.00329, 0.186]         -0.659990   \n",
       "20170  0.002032     1.909771  (-0.00329, 0.186]          6.086184   \n",
       "\n",
       "       highly_variable  \n",
       "0                False  \n",
       "1                 True  \n",
       "2                False  \n",
       "3                False  \n",
       "4                False  \n",
       "...                ...  \n",
       "20166            False  \n",
       "20167            False  \n",
       "20168            False  \n",
       "20169            False  \n",
       "20170             True  \n",
       "\n",
       "[20171 rows x 5 columns]"
      ]
     },
     "execution_count": 3,
     "metadata": {},
     "output_type": "execute_result"
    }
   ],
   "source": [
    "adata_dis_num=sc.pp.highly_variable_genes(\n",
    "    adata,\n",
    "    flavor=\"seurat\",\n",
    "    n_top_genes=2000,\n",
    "    subset=False,\n",
    "    inplace=False,\n",
    ")\n",
    "adata_dis_num"
   ]
  },
  {
   "cell_type": "code",
   "execution_count": 4,
   "id": "c0051863",
   "metadata": {},
   "outputs": [
    {
     "data": {
      "text/plain": [
       "False    18171\n",
       "True      2000\n",
       "Name: highly_variable, dtype: int64"
      ]
     },
     "execution_count": 4,
     "metadata": {},
     "output_type": "execute_result"
    }
   ],
   "source": [
    "adata_dis_num['highly_variable'].value_counts()"
   ]
  },
  {
   "attachments": {},
   "cell_type": "markdown",
   "id": "4ad0db83",
   "metadata": {},
   "source": [
    "我们发现，一共选择了2000个高可变基因，这与我们最开始的分析目标一致，至于选择出来的高可变基因有什么用途，则留在下一章节讨论\n",
    "\n",
    "### 2.2 指定基因离散度与平均值阈值\n",
    "\n",
    "除了指定高可变基因数量外，我们还可以通过基因的离散度与平均值的阈值，去计算高可变基因，但是，这种启发式的方法是数据敏感的，阈值所计算出来的高可变基因可能并不是全部高可变。故基于阈值的方法在现在的分析中应用较少。"
   ]
  },
  {
   "cell_type": "code",
   "execution_count": 5,
   "id": "6526b24a",
   "metadata": {},
   "outputs": [
    {
     "name": "stdout",
     "output_type": "stream",
     "text": [
      "extracting highly variable genes\n",
      "    finished (0:00:00)\n"
     ]
    },
    {
     "data": {
      "text/plain": [
       "False    17291\n",
       "True      2880\n",
       "Name: highly_variable, dtype: int64"
      ]
     },
     "execution_count": 5,
     "metadata": {},
     "output_type": "execute_result"
    }
   ],
   "source": [
    "adata_dis_cutoff=sc.pp.highly_variable_genes(\n",
    "    adata,\n",
    "    flavor=\"seurat\",\n",
    "    min_disp=0.5,\n",
    "    min_mean=0.0125,\n",
    "    max_mean=3,\n",
    "    subset=False,\n",
    "    inplace=False,\n",
    ")\n",
    "adata_dis_cutoff['highly_variable'].value_counts()"
   ]
  },
  {
   "attachments": {},
   "cell_type": "markdown",
   "id": "1af85ade",
   "metadata": {},
   "source": [
    "通过简单的计算我们发现，一共有2,880个高可变基因被选择了出来，一般2000-3000内的高可变基因数都是能接受的"
   ]
  },
  {
   "attachments": {},
   "cell_type": "markdown",
   "id": "e35b98c5",
   "metadata": {},
   "source": [
    "因为非高可变基因在下游分析时会被过滤掉，我们会将归一化值给保存进raw文件，但这有个缺陷，我们将会永远失去非高可变基因的原始count。因此可以使用释放函数 `ov.utils.retrieve_layers`，与存放在adata.layers中的数据不同，`retrieve_layers`函数还可还原全基因的原始计数，我们以下将进行一个简单的对比实验。"
   ]
  },
  {
   "cell_type": "code",
   "execution_count": 12,
   "id": "45c59a85",
   "metadata": {},
   "outputs": [
    {
     "name": "stdout",
     "output_type": "stream",
     "text": [
      "extracting highly variable genes\n",
      "    finished (0:00:00)\n",
      "--> added\n",
      "    'highly_variable', boolean vector (adata.var)\n",
      "    'means', float vector (adata.var)\n",
      "    'dispersions', float vector (adata.var)\n",
      "    'dispersions_norm', float vector (adata.var)\n",
      "shape:  (14814, 2880)\n",
      "......The X of adata have been stored in raw\n",
      "......The layers counts of adata have been retreved\n",
      "normalize adata: 4.9448869840604806\n",
      "raw count adata: 694.0\n",
      "shape:  (14814, 2880)\n"
     ]
    }
   ],
   "source": [
    "#计算高可变基因（覆盖，inplace=True）\n",
    "adata.raw = adata\n",
    "sc.pp.highly_variable_genes(\n",
    "    adata,\n",
    "    flavor=\"seurat\",\n",
    ")\n",
    "#只保留高可变基因\n",
    "adata = adata[:, adata.var.highly_variable]\n",
    "print('shape: ',adata.shape)\n",
    "\n",
    "adata_counts=adata.copy()\n",
    "ov.utils.retrieve_layers(adata_counts,layers='counts')\n",
    "print('normalize adata:',adata.X.max())\n",
    "print('raw count adata:',adata_counts.X.max())\n",
    "print('shape: ',adata_counts.shape)"
   ]
  },
  {
   "cell_type": "code",
   "execution_count": 13,
   "id": "791f7a61",
   "metadata": {},
   "outputs": [
    {
     "name": "stdout",
     "output_type": "stream",
     "text": [
      "......The X of adata have been stored in raw\n",
      "......The layers counts of adata have been retreved\n",
      "normalize adata: 4.9448869840604806\n",
      "raw count adata: 889.0\n",
      "shape:  (14814, 20171)\n"
     ]
    }
   ],
   "source": [
    "#释放所有基因\n",
    "adata_counts=adata.raw.to_adata().copy()\n",
    "ov.utils.retrieve_layers(adata_counts,layers='counts')\n",
    "print('normalize adata:',adata.X.max())\n",
    "print('raw count adata:',adata_counts.X.max())\n",
    "print('shape: ',adata_counts.shape)"
   ]
  },
  {
   "attachments": {},
   "cell_type": "markdown",
   "id": "5c3faec9",
   "metadata": {},
   "source": [
    "可以发现，我们使用.raw还原基因名后，`retrieve_layers`即可自动提取.raw中所包含的counts值。即数据的形状为 (14814, 20171)"
   ]
  },
  {
   "attachments": {},
   "cell_type": "markdown",
   "id": "f48856a0",
   "metadata": {},
   "source": [
    "\n",
    "## 3. 基于基因归一化方差\n",
    "\n",
    "在过去的单细胞研究中人们发现，仅根据对数归一化法，并使用离散度的高可变基因选择方法无法解释单细胞 RNA-seq 固有的均值-方差关系。故在`seurat v3`中，研究人员使用了方差稳定变换来纠正这一点误差。这意味着我们将不使用标准化后的数据来计算高可变基因。该方法的计算步骤如下：\n",
    "\n",
    "我们首先计算每一个基因的平均值 $\\overline{x_i}$ 与方差 $\\sigma_i$，然后分别对平均值与方差进行log对数化。然后我们使用2次多项式，将方差作为均值的函数，进行局部多项式回归。\n",
    "\n",
    "$$ \\sigma (x) = a x^2 +b x +c$$\n",
    "\n",
    "通过上述公式，我们可以获得每一个基因的预期方差，然后我们进行z转换：\n",
    "\n",
    "$$ z_{ij}= \\frac {x_{ij}-\\overline{x_i}} {\\sigma (x_i)} $$\n",
    "\n",
    "其中 $z_{ij}$ 是细胞j中基因i的标准化值，$x_{ij}$ 是细胞j中基因i的原始值，$\\overline{x_i}$ 是基因i的平均原始值，并且 $\\sigma (x_i)$ 是从全局均值方差拟合得出的特征i的预期标准差。为了减少技术异常值的影响，我们将标准化值削减为最大值 $\\sqrt {N}$，其中N是细胞总数。然后，对于每个基因，我们计算所有细胞标准化值的方差。该方差表示控制均值表达后单细胞离散度的度量，我们直接使用它对特征进行排序。\n",
    "\n",
    "在`scanpy`中，我们需要设定`flavor=\"seurat_v3\"`以选择基于基因归一化方差的方法，并指定计数矩阵为未归一化的矩阵，即`layer='counts'`，同时我们选择标准化方差最高的 2,000 个基因作为“高度可变”。"
   ]
  },
  {
   "cell_type": "code",
   "execution_count": 9,
   "id": "86578754",
   "metadata": {},
   "outputs": [
    {
     "name": "stdout",
     "output_type": "stream",
     "text": [
      "If you pass `n_top_genes`, all cutoffs are ignored.\n",
      "extracting highly variable genes\n"
     ]
    },
    {
     "data": {
      "text/plain": [
       "False    18171\n",
       "True      2000\n",
       "Name: highly_variable, dtype: int64"
      ]
     },
     "execution_count": 9,
     "metadata": {},
     "output_type": "execute_result"
    }
   ],
   "source": [
    "adata_var_num=sc.pp.highly_variable_genes(\n",
    "    adata,\n",
    "    flavor=\"seurat_v3\",\n",
    "    layer='counts',\n",
    "    n_top_genes=2000,\n",
    "    subset=False,\n",
    "    inplace=False,\n",
    ")\n",
    "adata_var_num['highly_variable'].value_counts()"
   ]
  },
  {
   "attachments": {},
   "cell_type": "markdown",
   "id": "7aa526d1",
   "metadata": {},
   "source": [
    "## 4. 基于基因皮尔森近似残差\n",
    "\n",
    "除了基于基因归一化残差以及离散度的方法外，我们还可以基于皮尔森近似残差的思想来计算高可变基因，你一定注意到了我们此前的归一化步骤中包含了皮尔森残差的方法，但是在这里，我们依然是使用原始计数来计算高可变基因，这是`scanpy`的实现原理所导致的，即我们可以使用移位对数来获得标准化数据，同时使用皮尔森残差法来获得高可变基因\n",
    "\n",
    "针对没有生物学变异的UMI或计数数据的常见建模假设是，每个基因$g$在细胞$c$中占据了总计数$n_c$的一定比例$p_g$ [4, 6-10]。然后，观察到的UMI计数$X_{c g}$被建模为泊松分布或负二项分布（NB），其期望值为$\\mu_{c g}=p_g n_c$，不考虑零膨胀：\n",
    "\n",
    "$$\n",
    "\\begin{array}{r}\n",
    "X_{c g} \\sim \\text { Poisson }\\left(\\mu_{c g}\\right) \\text { or } \\mathrm{NB}\\left(\\mu_{c g}, \\theta\\right), \\\\\n",
    "\\mu_{c g}=n_c p_g .\n",
    "\\end{array}\n",
    "$$\n",
    "\n",
    "泊松模型有一个最大似然解，可以写成闭式形式：$\\hat{n}_c=\\sum_g X_{c g}$（测序深度），$\\hat{p}_g=\\sum_c X_{c g} / \\sum_c \\hat{n}_c$，或者合并在一起：\n",
    "\n",
    "$$\n",
    "\\hat{\\mu}_{c g}=\\frac{\\sum_j X_{c j} \\cdot \\sum_i X_{i g}}{\\sum_{i j} X_{i j}}\n",
    "$$\n",
    "\n",
    "对于负二项模型，这个解仅适用于近似情况。利用这个解，皮尔森近似残差可表示为：\n",
    "\n",
    "$$\n",
    "Z_{c g}=\\frac{X_{c g}-\\hat{\\mu}_{c g}}{\\sqrt{\\hat{\\mu}_{c g}+\\hat{\\mu}_{c g}^2 / \\theta}},\n",
    "$$\n",
    "\n",
    "其中$\\mu_{c g}+\\mu_{c g}^2 / \\theta$是NB的方差，$\\theta \\rightarrow \\infty$时得到泊松极限。皮尔森近似残差的方差，除了一个常数外，等于皮尔森$\\chi^2$拟合优度统计量，用来量化每个基因与这个常量表达模型的偏差程度。正如Aedin Culhane指出的那样，在泊松模型下对皮尔森近似残差进行奇异值分解被称为对应分析，这是一种历史悠久的方法。\n",
    "\n",
    "Hafemeister和Satija建议在高变异基因（HVG）筛选中使用来自相关NB回归模型的皮尔森近似残差，也可作为下游处理的数据转换方法。与此同时，Townes等人建议使用来自上述泊松模型的偏差残差进行HVG筛选\n",
    "\n",
    "在`scanpy`中，我们将使用`experimental.pp.highly_variable_genes`来计算基于皮尔森残差的高可变基因"
   ]
  },
  {
   "cell_type": "code",
   "execution_count": 10,
   "id": "1ea15cb0",
   "metadata": {},
   "outputs": [
    {
     "name": "stdout",
     "output_type": "stream",
     "text": [
      "extracting highly variable genes\n"
     ]
    },
    {
     "data": {
      "text/plain": [
       "False    18171\n",
       "True      2000\n",
       "Name: highly_variable, dtype: int64"
      ]
     },
     "execution_count": 10,
     "metadata": {},
     "output_type": "execute_result"
    }
   ],
   "source": [
    "adata_pearson_num=sc.experimental.pp.highly_variable_genes(\n",
    "    adata, \n",
    "    flavor=\"pearson_residuals\",\n",
    "    layer='counts',\n",
    "    n_top_genes=2000,\n",
    "    subset=False,\n",
    "    inplace=False,\n",
    ")\n",
    "adata_pearson_num['highly_variable'].value_counts()"
   ]
  },
  {
   "cell_type": "code",
   "execution_count": 22,
   "id": "d83ddb30",
   "metadata": {},
   "outputs": [
    {
     "data": {
      "text/html": [
       "<div>\n",
       "<style scoped>\n",
       "    .dataframe tbody tr th:only-of-type {\n",
       "        vertical-align: middle;\n",
       "    }\n",
       "\n",
       "    .dataframe tbody tr th {\n",
       "        vertical-align: top;\n",
       "    }\n",
       "\n",
       "    .dataframe thead th {\n",
       "        text-align: right;\n",
       "    }\n",
       "</style>\n",
       "<table border=\"1\" class=\"dataframe\">\n",
       "  <thead>\n",
       "    <tr style=\"text-align: right;\">\n",
       "      <th></th>\n",
       "      <th>means</th>\n",
       "      <th>dispersions</th>\n",
       "      <th>mean_bin</th>\n",
       "      <th>dispersions_norm</th>\n",
       "      <th>highly_variable</th>\n",
       "    </tr>\n",
       "  </thead>\n",
       "  <tbody>\n",
       "    <tr>\n",
       "      <th>AL627309.1</th>\n",
       "      <td>0.000955</td>\n",
       "      <td>0.001085</td>\n",
       "      <td>(-0.00329, 0.186]</td>\n",
       "      <td>-1.267316</td>\n",
       "      <td>False</td>\n",
       "    </tr>\n",
       "    <tr>\n",
       "      <th>AL627309.5</th>\n",
       "      <td>0.006057</td>\n",
       "      <td>0.715322</td>\n",
       "      <td>(-0.00329, 0.186]</td>\n",
       "      <td>1.484390</td>\n",
       "      <td>True</td>\n",
       "    </tr>\n",
       "    <tr>\n",
       "      <th>LINC01409</th>\n",
       "      <td>0.036619</td>\n",
       "      <td>0.275313</td>\n",
       "      <td>(-0.00329, 0.186]</td>\n",
       "      <td>-0.210809</td>\n",
       "      <td>False</td>\n",
       "    </tr>\n",
       "    <tr>\n",
       "      <th>LINC01128</th>\n",
       "      <td>0.022142</td>\n",
       "      <td>0.268974</td>\n",
       "      <td>(-0.00329, 0.186]</td>\n",
       "      <td>-0.235233</td>\n",
       "      <td>False</td>\n",
       "    </tr>\n",
       "    <tr>\n",
       "      <th>LINC00115</th>\n",
       "      <td>0.002392</td>\n",
       "      <td>-0.093762</td>\n",
       "      <td>(-0.00329, 0.186]</td>\n",
       "      <td>-1.632726</td>\n",
       "      <td>False</td>\n",
       "    </tr>\n",
       "    <tr>\n",
       "      <th>...</th>\n",
       "      <td>...</td>\n",
       "      <td>...</td>\n",
       "      <td>...</td>\n",
       "      <td>...</td>\n",
       "      <td>...</td>\n",
       "    </tr>\n",
       "    <tr>\n",
       "      <th>AC011043.1</th>\n",
       "      <td>0.003747</td>\n",
       "      <td>0.063567</td>\n",
       "      <td>(-0.00329, 0.186]</td>\n",
       "      <td>-1.026594</td>\n",
       "      <td>False</td>\n",
       "    </tr>\n",
       "    <tr>\n",
       "      <th>AL354822.1</th>\n",
       "      <td>0.003144</td>\n",
       "      <td>0.307859</td>\n",
       "      <td>(-0.00329, 0.186]</td>\n",
       "      <td>-0.085421</td>\n",
       "      <td>False</td>\n",
       "    </tr>\n",
       "    <tr>\n",
       "      <th>AL592183.1</th>\n",
       "      <td>0.062956</td>\n",
       "      <td>0.448886</td>\n",
       "      <td>(-0.00329, 0.186]</td>\n",
       "      <td>0.457906</td>\n",
       "      <td>False</td>\n",
       "    </tr>\n",
       "    <tr>\n",
       "      <th>AC240274.1</th>\n",
       "      <td>0.012018</td>\n",
       "      <td>0.158723</td>\n",
       "      <td>(-0.00329, 0.186]</td>\n",
       "      <td>-0.659990</td>\n",
       "      <td>False</td>\n",
       "    </tr>\n",
       "    <tr>\n",
       "      <th>AC233755.1</th>\n",
       "      <td>0.002032</td>\n",
       "      <td>1.909771</td>\n",
       "      <td>(-0.00329, 0.186]</td>\n",
       "      <td>6.086184</td>\n",
       "      <td>True</td>\n",
       "    </tr>\n",
       "  </tbody>\n",
       "</table>\n",
       "<p>20171 rows × 5 columns</p>\n",
       "</div>"
      ],
      "text/plain": [
       "               means  dispersions           mean_bin  dispersions_norm  \\\n",
       "AL627309.1  0.000955     0.001085  (-0.00329, 0.186]         -1.267316   \n",
       "AL627309.5  0.006057     0.715322  (-0.00329, 0.186]          1.484390   \n",
       "LINC01409   0.036619     0.275313  (-0.00329, 0.186]         -0.210809   \n",
       "LINC01128   0.022142     0.268974  (-0.00329, 0.186]         -0.235233   \n",
       "LINC00115   0.002392    -0.093762  (-0.00329, 0.186]         -1.632726   \n",
       "...              ...          ...                ...               ...   \n",
       "AC011043.1  0.003747     0.063567  (-0.00329, 0.186]         -1.026594   \n",
       "AL354822.1  0.003144     0.307859  (-0.00329, 0.186]         -0.085421   \n",
       "AL592183.1  0.062956     0.448886  (-0.00329, 0.186]          0.457906   \n",
       "AC240274.1  0.012018     0.158723  (-0.00329, 0.186]         -0.659990   \n",
       "AC233755.1  0.002032     1.909771  (-0.00329, 0.186]          6.086184   \n",
       "\n",
       "            highly_variable  \n",
       "AL627309.1            False  \n",
       "AL627309.5             True  \n",
       "LINC01409             False  \n",
       "LINC01128             False  \n",
       "LINC00115             False  \n",
       "...                     ...  \n",
       "AC011043.1            False  \n",
       "AL354822.1            False  \n",
       "AL592183.1            False  \n",
       "AC240274.1            False  \n",
       "AC233755.1             True  \n",
       "\n",
       "[20171 rows x 5 columns]"
      ]
     },
     "execution_count": 22,
     "metadata": {},
     "output_type": "execute_result"
    }
   ],
   "source": [
    "adata_dis_num"
   ]
  },
  {
   "attachments": {},
   "cell_type": "markdown",
   "id": "ba313f74",
   "metadata": {},
   "source": [
    "现在，我们已经获得了3种不同的特征基因选择方法所得到的高可变基因，我们可以对比一下基因之间的重叠率，至于功能的研究则不在本章的考虑范围内。我们先将基因名赋予此前的结果"
   ]
  },
  {
   "cell_type": "code",
   "execution_count": 11,
   "id": "c2b6a26b",
   "metadata": {},
   "outputs": [],
   "source": [
    "adata_dis_num.index=adata.var_names.copy()\n",
    "adata_dis_cutoff.index=adata.var_names.copy()\n",
    "adata_var_num.index=adata.var_names.copy()\n",
    "adata_pearson_num.index=adata.var_names.copy()"
   ]
  },
  {
   "cell_type": "code",
   "execution_count": 14,
   "id": "7140fa84",
   "metadata": {},
   "outputs": [
    {
     "data": {
      "image/png": "[encoded data removed]",
      "text/plain": [
       "<Figure size 320x320 with 1 Axes>"
      ]
     },
     "metadata": {
      "image/png": {
       "height": 264,
       "width": 265
      }
     },
     "output_type": "display_data"
    }
   ],
   "source": [
    "import matplotlib.pyplot as plt\n",
    "from matplotlib_venn import venn3\n",
    "\n",
    "# 三个列表的元素\n",
    "list1 = set(adata_dis_num.loc[adata_dis_num['highly_variable']==True].index.tolist())\n",
    "list2 = set(adata_var_num.loc[adata_var_num['highly_variable']==True].index.tolist())\n",
    "list3 = set(adata_pearson_num.loc[adata_pearson_num['highly_variable']==True].index.tolist())\n",
    "\n",
    "# 绘制 Venn 图\n",
    "venn = venn3([list1, list2, list3], set_labels=('Dis', 'Var', 'Pearson'))\n",
    "\n",
    "\n",
    "# 显示图形\n",
    "plt.title(\"Venn Diagram of Three HVGs\")\n",
    "plt.show()\n"
   ]
  },
  {
   "attachments": {},
   "cell_type": "markdown",
   "id": "2ac05966",
   "metadata": {},
   "source": [
    "有意思的事情出现了，我们发现三种不同方法所找到的高可变基因（HVGs）仅有656个是相同的，这意味着不同的方法所寻找到的高可变基因可能会影响你的下游分析的误差。在我们的分析中，我们推荐使用皮尔森残差法来获得高可变基因。\n",
    "\n",
    "在`omicverse`中，我们可以直接使用`ov.pp.preprocess`完成预处理步骤，需要注意的是，当`omicverse`的版本小于`1.4.13`时，mode的参数只能设置为`scanpy`或`pearson`，而在更高的版本中，normalize|HVGs：我们使用 | 来控制预处理步骤，| 前用于归一化步骤，可以是 `shiftlog` 或 `pearson`，| 后用于高度可变基因计算步骤，可以是 `pearson` 或 `seurat`。我们的默认值是 `shiftlog|pearson`。"
   ]
  },
  {
   "cell_type": "code",
   "execution_count": 17,
   "id": "e7fddb9f",
   "metadata": {},
   "outputs": [
    {
     "name": "stdout",
     "output_type": "stream",
     "text": [
      "......The X of adata have been stored in counts\n",
      "Begin robust gene identification\n",
      "After filtration, 20171/20171 genes are kept. Among 20171 genes, 20171 genes are robust.\n",
      "End of robust gene identification.\n",
      "Begin size normalization: shiftlog and HVGs selection pearson\n",
      "normalizing counts per cell The following highly-expressed genes are not considered during normalization factor computation:\n",
      "[]\n",
      "    finished (0:00:00)\n",
      "extracting highly variable genes\n",
      "--> added\n",
      "    'highly_variable', boolean vector (adata.var)\n",
      "    'highly_variable_rank', float vector (adata.var)\n",
      "    'highly_variable_nbatches', int vector (adata.var)\n",
      "    'highly_variable_intersection', boolean vector (adata.var)\n",
      "    'means', float vector (adata.var)\n",
      "    'variances', float vector (adata.var)\n",
      "    'residual_variances', float vector (adata.var)\n",
      "End of size normalization: shiftlog and HVGs selection pearson\n"
     ]
    },
    {
     "data": {
      "text/plain": [
       "AnnData object with n_obs × n_vars = 14814 × 20171\n",
       "    obs: 'n_genes_by_counts', 'log1p_n_genes_by_counts', 'total_counts', 'log1p_total_counts', 'pct_counts_in_top_20_genes', 'total_counts_mt', 'log1p_total_counts_mt', 'pct_counts_mt', 'total_counts_ribo', 'log1p_total_counts_ribo', 'pct_counts_ribo', 'total_counts_hb', 'log1p_total_counts_hb', 'pct_counts_hb', 'outlier', 'mt_outlier', 'scDblFinder_score', 'scDblFinder_class'\n",
       "    var: 'gene_ids', 'feature_types', 'genome', 'mt', 'ribo', 'hb', 'n_cells_by_counts', 'mean_counts', 'log1p_mean_counts', 'pct_dropout_by_counts', 'total_counts', 'log1p_total_counts', 'n_cells', 'percent_cells', 'robust', 'mean', 'var', 'residual_variances', 'highly_variable_rank', 'highly_variable_features'\n",
       "    uns: 'layers_counts', 'log1p', 'hvg'\n",
       "    layers: 'counts', 'soupX_counts'"
      ]
     },
     "execution_count": 17,
     "metadata": {},
     "output_type": "execute_result"
    }
   ],
   "source": [
    "adata = sc.read(\n",
    "    filename=\"s4d8_quality_control.h5ad\",\n",
    "    #backup_url=\"https://figshare.com/ndownloader/files/40014331\",\n",
    ")\n",
    "#存储原始数据以便后续还原\n",
    "ov.utils.store_layers(adata,layers='counts')\n",
    "adata.layers['counts']=adata.X.copy()\n",
    "\n",
    "adata=ov.pp.preprocess(adata,\n",
    "                       mode='shiftlog|pearson',\n",
    "                       n_HVGs=2000,)\n",
    "adata"
   ]
  },
  {
   "attachments": {},
   "cell_type": "markdown",
   "id": "418727e8",
   "metadata": {},
   "source": [
    "注意，与`scanpy`不同，`omicverse`计算高可变基因后，将保存为`var['highly_variable_features']`，而在`scanpy`中，高可变将保存为`var['highly_variable']`"
   ]
  },
  {
   "cell_type": "code",
   "execution_count": 18,
   "id": "38b3e821",
   "metadata": {},
   "outputs": [
    {
     "data": {
      "text/html": [
       "<div>\n",
       "<style scoped>\n",
       "    .dataframe tbody tr th:only-of-type {\n",
       "        vertical-align: middle;\n",
       "    }\n",
       "\n",
       "    .dataframe tbody tr th {\n",
       "        vertical-align: top;\n",
       "    }\n",
       "\n",
       "    .dataframe thead th {\n",
       "        text-align: right;\n",
       "    }\n",
       "</style>\n",
       "<table border=\"1\" class=\"dataframe\">\n",
       "  <thead>\n",
       "    <tr style=\"text-align: right;\">\n",
       "      <th></th>\n",
       "      <th>gene_ids</th>\n",
       "      <th>feature_types</th>\n",
       "      <th>genome</th>\n",
       "      <th>mt</th>\n",
       "      <th>ribo</th>\n",
       "      <th>hb</th>\n",
       "      <th>n_cells_by_counts</th>\n",
       "      <th>mean_counts</th>\n",
       "      <th>log1p_mean_counts</th>\n",
       "      <th>pct_dropout_by_counts</th>\n",
       "      <th>total_counts</th>\n",
       "      <th>log1p_total_counts</th>\n",
       "      <th>n_cells</th>\n",
       "      <th>percent_cells</th>\n",
       "      <th>robust</th>\n",
       "      <th>mean</th>\n",
       "      <th>var</th>\n",
       "      <th>residual_variances</th>\n",
       "      <th>highly_variable_rank</th>\n",
       "      <th>highly_variable_features</th>\n",
       "    </tr>\n",
       "  </thead>\n",
       "  <tbody>\n",
       "    <tr>\n",
       "      <th>AL627309.1</th>\n",
       "      <td>ENSG00000238009</td>\n",
       "      <td>Gene Expression</td>\n",
       "      <td>GRCh38</td>\n",
       "      <td>False</td>\n",
       "      <td>False</td>\n",
       "      <td>False</td>\n",
       "      <td>30</td>\n",
       "      <td>0.001831</td>\n",
       "      <td>0.001829</td>\n",
       "      <td>99.822842</td>\n",
       "      <td>31.0</td>\n",
       "      <td>3.465736</td>\n",
       "      <td>27</td>\n",
       "      <td>0.182260</td>\n",
       "      <td>True</td>\n",
       "      <td>0.001823</td>\n",
       "      <td>0.001819</td>\n",
       "      <td>0.783158</td>\n",
       "      <td>NaN</td>\n",
       "      <td>False</td>\n",
       "    </tr>\n",
       "    <tr>\n",
       "      <th>AL627309.5</th>\n",
       "      <td>ENSG00000241860</td>\n",
       "      <td>Gene Expression</td>\n",
       "      <td>GRCh38</td>\n",
       "      <td>False</td>\n",
       "      <td>False</td>\n",
       "      <td>False</td>\n",
       "      <td>146</td>\n",
       "      <td>0.008976</td>\n",
       "      <td>0.008936</td>\n",
       "      <td>99.137829</td>\n",
       "      <td>152.0</td>\n",
       "      <td>5.030438</td>\n",
       "      <td>132</td>\n",
       "      <td>0.891049</td>\n",
       "      <td>True</td>\n",
       "      <td>0.008775</td>\n",
       "      <td>0.009239</td>\n",
       "      <td>1.063730</td>\n",
       "      <td>NaN</td>\n",
       "      <td>False</td>\n",
       "    </tr>\n",
       "    <tr>\n",
       "      <th>LINC01409</th>\n",
       "      <td>ENSG00000237491</td>\n",
       "      <td>Gene Expression</td>\n",
       "      <td>GRCh38</td>\n",
       "      <td>False</td>\n",
       "      <td>False</td>\n",
       "      <td>False</td>\n",
       "      <td>883</td>\n",
       "      <td>0.063009</td>\n",
       "      <td>0.061104</td>\n",
       "      <td>94.785638</td>\n",
       "      <td>1067.0</td>\n",
       "      <td>6.973543</td>\n",
       "      <td>820</td>\n",
       "      <td>5.535304</td>\n",
       "      <td>True</td>\n",
       "      <td>0.061158</td>\n",
       "      <td>0.082670</td>\n",
       "      <td>1.080966</td>\n",
       "      <td>NaN</td>\n",
       "      <td>False</td>\n",
       "    </tr>\n",
       "    <tr>\n",
       "      <th>LINC01128</th>\n",
       "      <td>ENSG00000228794</td>\n",
       "      <td>Gene Expression</td>\n",
       "      <td>GRCh38</td>\n",
       "      <td>False</td>\n",
       "      <td>False</td>\n",
       "      <td>False</td>\n",
       "      <td>533</td>\n",
       "      <td>0.036140</td>\n",
       "      <td>0.035503</td>\n",
       "      <td>96.852486</td>\n",
       "      <td>612.0</td>\n",
       "      <td>6.418365</td>\n",
       "      <td>464</td>\n",
       "      <td>3.132172</td>\n",
       "      <td>True</td>\n",
       "      <td>0.033617</td>\n",
       "      <td>0.042615</td>\n",
       "      <td>1.162746</td>\n",
       "      <td>NaN</td>\n",
       "      <td>False</td>\n",
       "    </tr>\n",
       "    <tr>\n",
       "      <th>LINC00115</th>\n",
       "      <td>ENSG00000225880</td>\n",
       "      <td>Gene Expression</td>\n",
       "      <td>GRCh38</td>\n",
       "      <td>False</td>\n",
       "      <td>False</td>\n",
       "      <td>False</td>\n",
       "      <td>72</td>\n",
       "      <td>0.004370</td>\n",
       "      <td>0.004360</td>\n",
       "      <td>99.574820</td>\n",
       "      <td>74.0</td>\n",
       "      <td>4.317488</td>\n",
       "      <td>66</td>\n",
       "      <td>0.445525</td>\n",
       "      <td>True</td>\n",
       "      <td>0.004388</td>\n",
       "      <td>0.004504</td>\n",
       "      <td>0.834976</td>\n",
       "      <td>NaN</td>\n",
       "      <td>False</td>\n",
       "    </tr>\n",
       "  </tbody>\n",
       "</table>\n",
       "</div>"
      ],
      "text/plain": [
       "                   gene_ids    feature_types  genome     mt   ribo     hb  \\\n",
       "AL627309.1  ENSG00000238009  Gene Expression  GRCh38  False  False  False   \n",
       "AL627309.5  ENSG00000241860  Gene Expression  GRCh38  False  False  False   \n",
       "LINC01409   ENSG00000237491  Gene Expression  GRCh38  False  False  False   \n",
       "LINC01128   ENSG00000228794  Gene Expression  GRCh38  False  False  False   \n",
       "LINC00115   ENSG00000225880  Gene Expression  GRCh38  False  False  False   \n",
       "\n",
       "            n_cells_by_counts  mean_counts  log1p_mean_counts  \\\n",
       "AL627309.1                 30     0.001831           0.001829   \n",
       "AL627309.5                146     0.008976           0.008936   \n",
       "LINC01409                 883     0.063009           0.061104   \n",
       "LINC01128                 533     0.036140           0.035503   \n",
       "LINC00115                  72     0.004370           0.004360   \n",
       "\n",
       "            pct_dropout_by_counts  total_counts  log1p_total_counts  n_cells  \\\n",
       "AL627309.1              99.822842          31.0            3.465736       27   \n",
       "AL627309.5              99.137829         152.0            5.030438      132   \n",
       "LINC01409               94.785638        1067.0            6.973543      820   \n",
       "LINC01128               96.852486         612.0            6.418365      464   \n",
       "LINC00115               99.574820          74.0            4.317488       66   \n",
       "\n",
       "            percent_cells  robust      mean       var  residual_variances  \\\n",
       "AL627309.1       0.182260    True  0.001823  0.001819            0.783158   \n",
       "AL627309.5       0.891049    True  0.008775  0.009239            1.063730   \n",
       "LINC01409        5.535304    True  0.061158  0.082670            1.080966   \n",
       "LINC01128        3.132172    True  0.033617  0.042615            1.162746   \n",
       "LINC00115        0.445525    True  0.004388  0.004504            0.834976   \n",
       "\n",
       "            highly_variable_rank  highly_variable_features  \n",
       "AL627309.1                   NaN                     False  \n",
       "AL627309.5                   NaN                     False  \n",
       "LINC01409                    NaN                     False  \n",
       "LINC01128                    NaN                     False  \n",
       "LINC00115                    NaN                     False  "
      ]
     },
     "execution_count": 18,
     "metadata": {},
     "output_type": "execute_result"
    }
   ],
   "source": [
    "adata.var.head()"
   ]
  },
  {
   "cell_type": "code",
   "execution_count": 19,
   "id": "f26d8bf1",
   "metadata": {},
   "outputs": [],
   "source": [
    "adata.write_h5ad('s4d8_preprocess.h5ad')"
   ]
  },
  {
   "cell_type": "code",
   "execution_count": null,
   "id": "24c65bf9",
   "metadata": {},
   "outputs": [],
   "source": []
  }
 ],
 "metadata": {
  "kernelspec": {
   "display_name": "Python 3 (ipykernel)",
   "language": "python",
   "name": "python3"
  },
  "language_info": {
   "codemirror_mode": {
    "name": "ipython",
    "version": 3
   },
   "file_extension": ".py",
   "mimetype": "text/x-python",
   "name": "python",
   "nbconvert_exporter": "python",
   "pygments_lexer": "ipython3",
   "version": "3.8.13"
  },
  "vscode": {
   "interpreter": {
    "hash": "9a4b8eb2e3b598ccf69997907eca0492d4b3d651094270ed44ac0cb064672ed3"
   }
  }
 },
 "nbformat": 4,
 "nbformat_minor": 5
}
